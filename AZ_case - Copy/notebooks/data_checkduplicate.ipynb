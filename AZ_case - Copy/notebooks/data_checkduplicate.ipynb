{
 "cells": [
  {
   "cell_type": "markdown",
   "metadata": {},
   "source": [
    "# data cleaning\n",
    "# check for duplicates , which is defined as having same age, sex drug and reaction"
   ]
  },
  {
   "cell_type": "code",
   "execution_count": 1,
   "metadata": {},
   "outputs": [],
   "source": [
    "import pandas as pd\n",
    "df =pd.read_csv(\"../data/reaction/patients\"+\"_\"+str(1)+\".csv\")"
   ]
  },
  {
   "cell_type": "code",
   "execution_count": 2,
   "metadata": {},
   "outputs": [],
   "source": [
    "df = df.sort_values(by=['safetyreportid', 'reactionmeddrapt'])"
   ]
  },
  {
   "cell_type": "code",
   "execution_count": 3,
   "metadata": {},
   "outputs": [],
   "source": [
    "reaction = df.groupby('safetyreportid')['reactionmeddrapt'].apply(list).reset_index()"
   ]
  },
  {
   "cell_type": "code",
   "execution_count": 4,
   "metadata": {},
   "outputs": [
    {
     "data": {
      "text/plain": [
       "['Bronchospasm', 'Dyspnoea', 'Hypertension', 'Oxygen saturation decreased']"
      ]
     },
     "execution_count": 4,
     "metadata": {},
     "output_type": "execute_result"
    }
   ],
   "source": [
    "reaction.iloc[106,1]"
   ]
  },
  {
   "cell_type": "code",
   "execution_count": 5,
   "metadata": {},
   "outputs": [],
   "source": [
    "import pandas as pd\n",
    "df_d=pd.read_csv(\"../data/drug/patients\"+\"_\"+str(1)+\".csv\")"
   ]
  },
  {
   "cell_type": "code",
   "execution_count": 6,
   "metadata": {},
   "outputs": [],
   "source": [
    "df =pd.read_csv(\"../data/drug/patients\"+\"_\"+str(1)+\".csv\")"
   ]
  },
  {
   "cell_type": "code",
   "execution_count": 7,
   "metadata": {},
   "outputs": [
    {
     "data": {
      "text/plain": [
       "Index(['Unnamed: 0', 'drugstartdateformat', 'drugindication',\n",
       "       'drugintervaldosageunitnumb', 'drugadministrationroute',\n",
       "       'drugdosageform', 'drugstartdate', 'openfda', 'drugauthorizationnumb',\n",
       "       'drugstructuredosageunit', 'medicinalproduct', 'activesubstance',\n",
       "       'drugadditional', 'drugcharacterization', 'drugstructuredosagenumb',\n",
       "       'drugintervaldosagedefinition', 'drugseparatedosagenumb', 'actiondrug',\n",
       "       'safetyreportid', 'primarysourcecountry', 'patientonsetage',\n",
       "       'patientsex', 'receivedate', 'drugenddateformat', 'drugenddate',\n",
       "       'drugbatchnumb', 'drugdosagetext', 'drugrecurreadministration',\n",
       "       'drugcumulativedosageunit', 'drugcumulativedosagenumb',\n",
       "       'drugtreatmentduration', 'drugtreatmentdurationunit', 'drugrecurrence'],\n",
       "      dtype='object')"
      ]
     },
     "execution_count": 7,
     "metadata": {},
     "output_type": "execute_result"
    }
   ],
   "source": [
    "df.columns"
   ]
  },
  {
   "cell_type": "code",
   "execution_count": 8,
   "metadata": {},
   "outputs": [
    {
     "name": "stderr",
     "output_type": "stream",
     "text": [
      "C:\\Users\\weiluhan\\AppData\\Local\\Continuum\\anaconda3\\envs\\fda\\lib\\site-packages\\ipykernel_launcher.py:1: FutureWarning: Indexing with multiple keys (implicitly converted to a tuple of keys) will be deprecated, use a list instead.\n",
      "  \"\"\"Entry point for launching an IPython kernel.\n"
     ]
    },
    {
     "data": {
      "text/html": [
       "<div>\n",
       "<style scoped>\n",
       "    .dataframe tbody tr th:only-of-type {\n",
       "        vertical-align: middle;\n",
       "    }\n",
       "\n",
       "    .dataframe tbody tr th {\n",
       "        vertical-align: top;\n",
       "    }\n",
       "\n",
       "    .dataframe thead th {\n",
       "        text-align: right;\n",
       "    }\n",
       "</style>\n",
       "<table border=\"1\" class=\"dataframe\">\n",
       "  <thead>\n",
       "    <tr style=\"text-align: right;\">\n",
       "      <th></th>\n",
       "      <th>safetyreportid</th>\n",
       "      <th>patientonsetage</th>\n",
       "      <th>patientsex</th>\n",
       "    </tr>\n",
       "  </thead>\n",
       "  <tbody>\n",
       "    <tr>\n",
       "      <th>0</th>\n",
       "      <td>15789488</td>\n",
       "      <td>71.0</td>\n",
       "      <td>1.0</td>\n",
       "    </tr>\n",
       "    <tr>\n",
       "      <th>1</th>\n",
       "      <td>15789495</td>\n",
       "      <td>43.0</td>\n",
       "      <td>1.0</td>\n",
       "    </tr>\n",
       "    <tr>\n",
       "      <th>2</th>\n",
       "      <td>15789568</td>\n",
       "      <td>79.0</td>\n",
       "      <td>1.0</td>\n",
       "    </tr>\n",
       "    <tr>\n",
       "      <th>3</th>\n",
       "      <td>15789573</td>\n",
       "      <td>65.0</td>\n",
       "      <td>2.0</td>\n",
       "    </tr>\n",
       "    <tr>\n",
       "      <th>4</th>\n",
       "      <td>15789592</td>\n",
       "      <td>80.0</td>\n",
       "      <td>2.0</td>\n",
       "    </tr>\n",
       "    <tr>\n",
       "      <th>...</th>\n",
       "      <td>...</td>\n",
       "      <td>...</td>\n",
       "      <td>...</td>\n",
       "    </tr>\n",
       "    <tr>\n",
       "      <th>495</th>\n",
       "      <td>15802634</td>\n",
       "      <td>66.0</td>\n",
       "      <td>1.0</td>\n",
       "    </tr>\n",
       "    <tr>\n",
       "      <th>496</th>\n",
       "      <td>15802641</td>\n",
       "      <td>45.0</td>\n",
       "      <td>2.0</td>\n",
       "    </tr>\n",
       "    <tr>\n",
       "      <th>497</th>\n",
       "      <td>15802703</td>\n",
       "      <td>57.0</td>\n",
       "      <td>2.0</td>\n",
       "    </tr>\n",
       "    <tr>\n",
       "      <th>498</th>\n",
       "      <td>15802706</td>\n",
       "      <td>40.0</td>\n",
       "      <td>2.0</td>\n",
       "    </tr>\n",
       "    <tr>\n",
       "      <th>499</th>\n",
       "      <td>15802727</td>\n",
       "      <td>74.0</td>\n",
       "      <td>2.0</td>\n",
       "    </tr>\n",
       "  </tbody>\n",
       "</table>\n",
       "<p>500 rows × 3 columns</p>\n",
       "</div>"
      ],
      "text/plain": [
       "     safetyreportid  patientonsetage  patientsex\n",
       "0          15789488             71.0         1.0\n",
       "1          15789495             43.0         1.0\n",
       "2          15789568             79.0         1.0\n",
       "3          15789573             65.0         2.0\n",
       "4          15789592             80.0         2.0\n",
       "..              ...              ...         ...\n",
       "495        15802634             66.0         1.0\n",
       "496        15802641             45.0         2.0\n",
       "497        15802703             57.0         2.0\n",
       "498        15802706             40.0         2.0\n",
       "499        15802727             74.0         2.0\n",
       "\n",
       "[500 rows x 3 columns]"
      ]
     },
     "execution_count": 8,
     "metadata": {},
     "output_type": "execute_result"
    }
   ],
   "source": [
    "df.groupby('safetyreportid')['patientonsetage','patientsex'].first().reset_index()"
   ]
  },
  {
   "cell_type": "code",
   "execution_count": 9,
   "metadata": {},
   "outputs": [],
   "source": [
    "drug = df.groupby('safetyreportid')['medicinalproduct'].apply(list).reset_index()"
   ]
  },
  {
   "cell_type": "code",
   "execution_count": 10,
   "metadata": {},
   "outputs": [
    {
     "ename": "NameError",
     "evalue": "name 'df1' is not defined",
     "output_type": "error",
     "traceback": [
      "\u001b[1;31m---------------------------------------------------------------------------\u001b[0m",
      "\u001b[1;31mNameError\u001b[0m                                 Traceback (most recent call last)",
      "\u001b[1;32m<ipython-input-10-36fdc24922bb>\u001b[0m in \u001b[0;36m<module>\u001b[1;34m\u001b[0m\n\u001b[1;32m----> 1\u001b[1;33m \u001b[0mdf1\u001b[0m\u001b[1;33m[\u001b[0m\u001b[1;34m'medicinalproduct'\u001b[0m\u001b[1;33m]\u001b[0m\u001b[1;33m\u001b[0m\u001b[1;33m\u001b[0m\u001b[0m\n\u001b[0m",
      "\u001b[1;31mNameError\u001b[0m: name 'df1' is not defined"
     ]
    }
   ],
   "source": [
    "df1['medicinalproduct']"
   ]
  },
  {
   "cell_type": "code",
   "execution_count": 12,
   "metadata": {},
   "outputs": [
    {
     "name": "stdout",
     "output_type": "stream",
     "text": [
      "done with tracker 0\n",
      "done with tracker 1\n",
      "done with tracker 2\n",
      "done with tracker 3\n",
      "done with tracker 4\n",
      "done with tracker 5\n",
      "done with tracker 6\n",
      "done with tracker 7\n",
      "done with tracker 8\n",
      "done with tracker 9\n",
      "done with tracker 10\n",
      "done with tracker 11\n",
      "done with tracker 12\n",
      "done with tracker 13\n",
      "done with tracker 14\n",
      "done with tracker 15\n",
      "done with tracker 16\n",
      "done with tracker 17\n",
      "done with tracker 18\n",
      "done with tracker 19\n",
      "done with tracker 20\n",
      "done with tracker 21\n",
      "done with tracker 22\n",
      "done with tracker 23\n",
      "done with tracker 24\n",
      "done with tracker 25\n",
      "done with tracker 26\n",
      "done with tracker 27\n",
      "done with tracker 28\n",
      "done with tracker 29\n",
      "done with tracker 30\n",
      "done with tracker 31\n",
      "done with tracker 32\n",
      "done with tracker 33\n",
      "done with tracker 34\n",
      "done with tracker 35\n",
      "done with tracker 36\n",
      "done with tracker 37\n",
      "done with tracker 38\n",
      "done with tracker 39\n",
      "done with tracker 40\n",
      "done with tracker 41\n",
      "done with tracker 42\n",
      "done with tracker 43\n",
      "done with tracker 44\n",
      "done with tracker 45\n",
      "done with tracker 46\n",
      "done with tracker 47\n",
      "done with tracker 48\n",
      "done with tracker 49\n",
      "done with tracker 50\n",
      "done with tracker 51\n",
      "done with tracker 52\n",
      "done with tracker 53\n",
      "done with tracker 54\n",
      "done with tracker 55\n",
      "done with tracker 56\n",
      "done with tracker 57\n",
      "done with tracker 58\n",
      "done with tracker 59\n",
      "done with tracker 60\n",
      "done with tracker 61\n",
      "done with tracker 62\n",
      "done with tracker 63\n",
      "done with tracker 64\n",
      "done with tracker 65\n",
      "done with tracker 66\n",
      "done with tracker 67\n",
      "done with tracker 68\n",
      "done with tracker 69\n",
      "done with tracker 70\n",
      "done with tracker 71\n",
      "done with tracker 72\n",
      "done with tracker 73\n",
      "done with tracker 74\n",
      "done with tracker 75\n",
      "done with tracker 76\n",
      "done with tracker 77\n",
      "done with tracker 78\n",
      "done with tracker 79\n",
      "done with tracker 80\n",
      "done with tracker 81\n",
      "done with tracker 82\n",
      "done with tracker 83\n",
      "done with tracker 84\n",
      "done with tracker 85\n",
      "done with tracker 86\n",
      "done with tracker 87\n",
      "done with tracker 88\n",
      "done with tracker 89\n",
      "done with tracker 90\n",
      "done with tracker 91\n",
      "done with tracker 92\n",
      "done with tracker 93\n",
      "done with tracker 94\n",
      "done with tracker 95\n",
      "done with tracker 96\n",
      "done with tracker 97\n",
      "done with tracker 98\n",
      "done with tracker 99\n",
      "done with tracker 100\n",
      "done with tracker 101\n",
      "done with tracker 102\n",
      "done with tracker 103\n",
      "done with tracker 104\n",
      "done with tracker 105\n",
      "done with tracker 106\n",
      "done with tracker 107\n",
      "done with tracker 108\n",
      "done with tracker 109\n",
      "done with tracker 110\n",
      "done with tracker 111\n",
      "done with tracker 112\n",
      "done with tracker 113\n",
      "done with tracker 114\n",
      "done with tracker 115\n",
      "done with tracker 116\n",
      "done with tracker 117\n",
      "done with tracker 118\n",
      "done with tracker 119\n",
      "done with tracker 120\n",
      "done with tracker 121\n",
      "done with tracker 122\n",
      "done with tracker 123\n",
      "done with tracker 124\n",
      "done with tracker 125\n",
      "done with tracker 126\n",
      "done with tracker 127\n",
      "done with tracker 128\n",
      "done with tracker 129\n",
      "done with tracker 130\n",
      "done with tracker 131\n",
      "done with tracker 132\n",
      "done with tracker 133\n"
     ]
    }
   ],
   "source": [
    "# process reaction data\n",
    "reaction=[]\n",
    "for i in range(0,134):\n",
    "        df =pd.read_csv(\"../data/reaction/patients\"+\"_\"+str(i)+\".csv\")\n",
    "        df = df.sort_values(by=['safetyreportid', 'reactionmeddrapt'])\n",
    "        reaction.append( df.groupby('safetyreportid')['reactionmeddrapt'].apply(list).reset_index())\n",
    "        print(\"done with tracker {}\".format(i))"
   ]
  },
  {
   "cell_type": "code",
   "execution_count": 13,
   "metadata": {},
   "outputs": [],
   "source": [
    "df_reaction = pd.concat(reaction)"
   ]
  },
  {
   "cell_type": "code",
   "execution_count": 67,
   "metadata": {},
   "outputs": [],
   "source": [
    "# process reaction data\n",
    "drug=[]\n",
    "for i in range(0,134):\n",
    "        df =pd.read_csv(\"../data/drug/patients\"+\"_\"+str(i)+\".csv\")\n",
    "        df = df.sort_values(by=['safetyreportid', 'medicinalproduct'])\n",
    "        reaction.append( df.groupby('safetyreportid')['reactionmeddrapt'].apply(list).reset_index())\n",
    "        print(\"done with tracker {}\".format(i))\n",
    "df_drug =  pd.concat(drug)"
   ]
  },
  {
   "cell_type": "code",
   "execution_count": 68,
   "metadata": {},
   "outputs": [
    {
     "data": {
      "text/html": [
       "<div>\n",
       "<style scoped>\n",
       "    .dataframe tbody tr th:only-of-type {\n",
       "        vertical-align: middle;\n",
       "    }\n",
       "\n",
       "    .dataframe tbody tr th {\n",
       "        vertical-align: top;\n",
       "    }\n",
       "\n",
       "    .dataframe thead th {\n",
       "        text-align: right;\n",
       "    }\n",
       "</style>\n",
       "<table border=\"1\" class=\"dataframe\">\n",
       "  <thead>\n",
       "    <tr style=\"text-align: right;\">\n",
       "      <th></th>\n",
       "      <th>safetyreportid</th>\n",
       "      <th>patientonsetage</th>\n",
       "      <th>patientsex</th>\n",
       "      <th>primarysourcecountry</th>\n",
       "      <th>medicinalproduct</th>\n",
       "    </tr>\n",
       "  </thead>\n",
       "  <tbody>\n",
       "    <tr>\n",
       "      <th>0</th>\n",
       "      <td>15778743</td>\n",
       "      <td>68.0</td>\n",
       "      <td>1.0</td>\n",
       "      <td>CN</td>\n",
       "      <td>[AVASTIN, FLUOROURACIL., FLUOROURACIL., OXALIP...</td>\n",
       "    </tr>\n",
       "    <tr>\n",
       "      <th>1</th>\n",
       "      <td>15778751</td>\n",
       "      <td>45.0</td>\n",
       "      <td>2.0</td>\n",
       "      <td>CN</td>\n",
       "      <td>[AVASTIN, CALCIUM LEVOFOLINATE, FLUOROURACIL.,...</td>\n",
       "    </tr>\n",
       "    <tr>\n",
       "      <th>2</th>\n",
       "      <td>15778810</td>\n",
       "      <td>63.0</td>\n",
       "      <td>2.0</td>\n",
       "      <td>US</td>\n",
       "      <td>[APIXABAN, ATEZOLIZUMAB., ATORVASTATIN, BEVACI...</td>\n",
       "    </tr>\n",
       "    <tr>\n",
       "      <th>3</th>\n",
       "      <td>15778821</td>\n",
       "      <td>NaN</td>\n",
       "      <td>1.0</td>\n",
       "      <td>US</td>\n",
       "      <td>[XTANDI, XTANDI]</td>\n",
       "    </tr>\n",
       "    <tr>\n",
       "      <th>4</th>\n",
       "      <td>15778827</td>\n",
       "      <td>80.0</td>\n",
       "      <td>2.0</td>\n",
       "      <td>CN</td>\n",
       "      <td>[BEVACIZUMAB., BEVACIZUMAB., CAPECITABINE., RE...</td>\n",
       "    </tr>\n",
       "    <tr>\n",
       "      <th>...</th>\n",
       "      <td>...</td>\n",
       "      <td>...</td>\n",
       "      <td>...</td>\n",
       "      <td>...</td>\n",
       "      <td>...</td>\n",
       "    </tr>\n",
       "    <tr>\n",
       "      <th>236</th>\n",
       "      <td>17288631</td>\n",
       "      <td>61.0</td>\n",
       "      <td>1.0</td>\n",
       "      <td>US</td>\n",
       "      <td>[CAPECITABINE 500MG TAB, CAPECITABINE 500MG TAB]</td>\n",
       "    </tr>\n",
       "    <tr>\n",
       "      <th>237</th>\n",
       "      <td>17291920</td>\n",
       "      <td>41.0</td>\n",
       "      <td>1.0</td>\n",
       "      <td>US</td>\n",
       "      <td>[CAPECITABINE 500MG TAB]</td>\n",
       "    </tr>\n",
       "    <tr>\n",
       "      <th>238</th>\n",
       "      <td>17292002</td>\n",
       "      <td>69.0</td>\n",
       "      <td>1.0</td>\n",
       "      <td>US</td>\n",
       "      <td>[ABIRATERONE ACETATE 250MG, AIRBORNE TAB, ALEV...</td>\n",
       "    </tr>\n",
       "    <tr>\n",
       "      <th>239</th>\n",
       "      <td>17292153</td>\n",
       "      <td>80.0</td>\n",
       "      <td>2.0</td>\n",
       "      <td>US</td>\n",
       "      <td>[FASLODEX, IBRANCE]</td>\n",
       "    </tr>\n",
       "    <tr>\n",
       "      <th>240</th>\n",
       "      <td>17292159</td>\n",
       "      <td>NaN</td>\n",
       "      <td>2.0</td>\n",
       "      <td>US</td>\n",
       "      <td>[VERZENIO]</td>\n",
       "    </tr>\n",
       "  </tbody>\n",
       "</table>\n",
       "<p>66741 rows × 5 columns</p>\n",
       "</div>"
      ],
      "text/plain": [
       "     safetyreportid  patientonsetage  patientsex primarysourcecountry  \\\n",
       "0          15778743             68.0         1.0                   CN   \n",
       "1          15778751             45.0         2.0                   CN   \n",
       "2          15778810             63.0         2.0                   US   \n",
       "3          15778821              NaN         1.0                   US   \n",
       "4          15778827             80.0         2.0                   CN   \n",
       "..              ...              ...         ...                  ...   \n",
       "236        17288631             61.0         1.0                   US   \n",
       "237        17291920             41.0         1.0                   US   \n",
       "238        17292002             69.0         1.0                   US   \n",
       "239        17292153             80.0         2.0                   US   \n",
       "240        17292159              NaN         2.0                   US   \n",
       "\n",
       "                                      medicinalproduct  \n",
       "0    [AVASTIN, FLUOROURACIL., FLUOROURACIL., OXALIP...  \n",
       "1    [AVASTIN, CALCIUM LEVOFOLINATE, FLUOROURACIL.,...  \n",
       "2    [APIXABAN, ATEZOLIZUMAB., ATORVASTATIN, BEVACI...  \n",
       "3                                     [XTANDI, XTANDI]  \n",
       "4    [BEVACIZUMAB., BEVACIZUMAB., CAPECITABINE., RE...  \n",
       "..                                                 ...  \n",
       "236   [CAPECITABINE 500MG TAB, CAPECITABINE 500MG TAB]  \n",
       "237                           [CAPECITABINE 500MG TAB]  \n",
       "238  [ABIRATERONE ACETATE 250MG, AIRBORNE TAB, ALEV...  \n",
       "239                                [FASLODEX, IBRANCE]  \n",
       "240                                         [VERZENIO]  \n",
       "\n",
       "[66741 rows x 5 columns]"
      ]
     },
     "execution_count": 68,
     "metadata": {},
     "output_type": "execute_result"
    }
   ],
   "source": [
    "df_drug"
   ]
  },
  {
   "cell_type": "code",
   "execution_count": 91,
   "metadata": {},
   "outputs": [],
   "source": [
    "df_check=df_drug.merge(df_reaction,on=\"safetyreportid\")"
   ]
  },
  {
   "cell_type": "code",
   "execution_count": 92,
   "metadata": {},
   "outputs": [
    {
     "data": {
      "text/plain": [
       "(66741, 6)"
      ]
     },
     "execution_count": 92,
     "metadata": {},
     "output_type": "execute_result"
    }
   ],
   "source": [
    "df_check.shape"
   ]
  },
  {
   "cell_type": "code",
   "execution_count": 80,
   "metadata": {},
   "outputs": [
    {
     "data": {
      "text/plain": [
       "5825"
      ]
     },
     "execution_count": 80,
     "metadata": {},
     "output_type": "execute_result"
    }
   ],
   "source": [
    "hashable_df(df_check[['patientonsetage', 'patientsex',\n",
    "       'primarysourcecountry', 'medicinalproduct', 'reactionmeddrapt']]).duplicated()\n",
    " "
   ]
  },
  {
   "cell_type": "code",
   "execution_count": 74,
   "metadata": {},
   "outputs": [],
   "source": [
    "from hashable_df import hashable_df"
   ]
  },
  {
   "cell_type": "code",
   "execution_count": 93,
   "metadata": {},
   "outputs": [],
   "source": [
    "df_check = hashable_df(df_check)"
   ]
  },
  {
   "cell_type": "code",
   "execution_count": 88,
   "metadata": {},
   "outputs": [
    {
     "data": {
      "text/plain": [
       "2533"
      ]
     },
     "execution_count": 88,
     "metadata": {},
     "output_type": "execute_result"
    }
   ],
   "source": [
    "df_check.duplicated().sum()"
   ]
  },
  {
   "cell_type": "code",
   "execution_count": 95,
   "metadata": {},
   "outputs": [],
   "source": [
    "df_check.drop_duplicates(subset = ['patientonsetage', 'patientsex',\n",
    "       'primarysourcecountry', 'medicinalproduct', 'reactionmeddrapt'],inplace=True)"
   ]
  },
  {
   "cell_type": "code",
   "execution_count": 96,
   "metadata": {},
   "outputs": [
    {
     "data": {
      "text/plain": [
       "(60916, 6)"
      ]
     },
     "execution_count": 96,
     "metadata": {},
     "output_type": "execute_result"
    }
   ],
   "source": [
    "df_check.shape   # this have already drop all the duplciates"
   ]
  },
  {
   "cell_type": "code",
   "execution_count": 98,
   "metadata": {},
   "outputs": [
    {
     "data": {
      "text/plain": [
       "0        15778743\n",
       "1        15778751\n",
       "2        15778810\n",
       "3        15778821\n",
       "4        15778827\n",
       "           ...   \n",
       "66736    17288631\n",
       "66737    17291920\n",
       "66738    17292002\n",
       "66739    17292153\n",
       "66740    17292159\n",
       "Name: safetyreportid, Length: 60916, dtype: int64"
      ]
     },
     "execution_count": 98,
     "metadata": {},
     "output_type": "execute_result"
    }
   ],
   "source": [
    "df_check.safetyreportid"
   ]
  },
  {
   "cell_type": "code",
   "execution_count": 100,
   "metadata": {},
   "outputs": [],
   "source": [
    "# process reaction data\n",
    "drug_exp=[]\n",
    "for i in range(0,134):\n",
    "        df =pd.read_csv(\"../data/drug/patients\"+\"_\"+str(i)+\".csv\")\n",
    "        df = df.sort_values(by=['safetyreportid', 'medicinalproduct'])\n",
    "        drug_exp.append( df)"
   ]
  },
  {
   "cell_type": "code",
   "execution_count": 101,
   "metadata": {},
   "outputs": [],
   "source": [
    "# process reaction data\n",
    "reactionexp=[]\n",
    "for i in range(0,134):\n",
    "        df =pd.read_csv(\"../data/reaction/patients\"+\"_\"+str(i)+\".csv\")\n",
    "        df = df.sort_values(by=['safetyreportid', 'reactionmeddrapt'])\n",
    "        reactionexp.append( df)"
   ]
  },
  {
   "cell_type": "code",
   "execution_count": 103,
   "metadata": {},
   "outputs": [],
   "source": [
    "df_drugexp=pd.concat(drug_exp)"
   ]
  },
  {
   "cell_type": "code",
   "execution_count": 104,
   "metadata": {},
   "outputs": [],
   "source": [
    "df_reactionexp=pd.concat(reactionexp)"
   ]
  },
  {
   "cell_type": "code",
   "execution_count": 106,
   "metadata": {},
   "outputs": [],
   "source": [
    "df_1=df_drugexp.merge(df_reactionexp,on=\"safetyreportid\")"
   ]
  },
  {
   "cell_type": "code",
   "execution_count": 108,
   "metadata": {},
   "outputs": [],
   "source": [
    "df_input=df_1[df_1.safetyreportid.isin(df_check.safetyreportid)]"
   ]
  },
  {
   "cell_type": "code",
   "execution_count": 109,
   "metadata": {},
   "outputs": [],
   "source": [
    "df_input.to_csv(\"../data/data_input.csv\")"
   ]
  },
  {
   "cell_type": "code",
   "execution_count": null,
   "metadata": {},
   "outputs": [],
   "source": []
  }
 ],
 "metadata": {
  "kernelspec": {
   "display_name": "Python 3",
   "language": "python",
   "name": "python3"
  },
  "language_info": {
   "codemirror_mode": {
    "name": "ipython",
    "version": 3
   },
   "file_extension": ".py",
   "mimetype": "text/x-python",
   "name": "python",
   "nbconvert_exporter": "python",
   "pygments_lexer": "ipython3",
   "version": "3.6.10"
  }
 },
 "nbformat": 4,
 "nbformat_minor": 4
}
